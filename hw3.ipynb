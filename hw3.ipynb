{
  "cells": [
    {
      "cell_type": "markdown",
      "id": "f2d5be44-3708-4405-b93d-9de77bd5fbda",
      "metadata": {
        "id": "f2d5be44-3708-4405-b93d-9de77bd5fbda"
      },
      "source": [
        "---\n",
        "<h1 style=\"text-align: center;\">\n",
        "CSCI 4521: Applied Machine Learning (Fall 2024)\n",
        "</h1>\n",
        "\n",
        "<h1 style=\"text-align: center;\">\n",
        "Homework 3\n",
        "</h1>\n",
        "\n",
        "<h3 style=\"text-align: center;\">\n",
        "(Due Tue, Oct. 29, 11:59 PM CT)\n",
        "</h3>\n",
        "\n",
        "---"
      ]
    },
    {
      "cell_type": "markdown",
      "id": "8d5be1aa-5953-4fae-b666-a06957d504d6",
      "metadata": {
        "id": "8d5be1aa-5953-4fae-b666-a06957d504d6"
      },
      "source": [
        "### The RMS Titanic was a British ocean liner considered by many as \"unsinkable.\" Unfortunately, the Titanic hit an iceberge and sank on April 15, 1912 on her trip from Southampton, England to New York City, USA. There were not enough lifeboards onboard for everyone and, as a result, an estimated 1500 people died out of the 2224 passengers and crew onboard. The Titanic disaster was one of the deadliest ship sinkings. There was a large element of luck involved in surviving the shipwreck but some people were more likely to survive than others."
      ]
    },
    {
      "cell_type": "markdown",
      "id": "c4f1f05b-2d70-4b6b-ac92-72647781315b",
      "metadata": {
        "id": "c4f1f05b-2d70-4b6b-ac92-72647781315b"
      },
      "source": [
        "![rms-titanic-14047.png](attachment:d3b8257e-f179-4545-8953-e44343a5f64d.png)\n"
      ]
    },
    {
      "cell_type": "markdown",
      "id": "bf573c05-3b91-4fe5-a0f4-9038560c93d5",
      "metadata": {
        "id": "bf573c05-3b91-4fe5-a0f4-9038560c93d5"
      },
      "source": [
        "### In this homework, your task is to predict whether a passenger will survive the shipwreck or not. You need to use machine learning and develop classification models to accomplish this task. The only data you have available is passenger data in the dataset `titanic_dataset_csci4521.csv` which consists of the following features:\n",
        "- ### Passenger ID,\n",
        "- ### Ticket class (1 = first class, 2 = second class, 3 = third class),\n",
        "- ### Passenger name,\n",
        "- ### Sex,\n",
        "- ### Age,\n",
        "- ### Number of siblings or spouses aboard,\n",
        "- ### Number of parents or children aboard,\n",
        "- ### Ticket number,\n",
        "- ### Fare,\n",
        "- ### Cabin number, and\n",
        "- ### Port of Embarkation (C = Cherbourg, Q = Queenstown, S = Southampton)\n",
        "### and label:\n",
        "- ### Survived ($y_i=1$) or\n",
        "- ### Not survived ($y_i = 0$).\n",
        "### You must decide if and how to clean and preprocess the data, which classification algorithms to use, which and how to tune any hyperparameters, how to measure performance, which models to select, and which final model to use."
      ]
    },
    {
      "cell_type": "markdown",
      "id": "4753a60e-803f-40a9-b64d-6e34d98ee1bf",
      "metadata": {
        "id": "4753a60e-803f-40a9-b64d-6e34d98ee1bf"
      },
      "source": [
        "### You can use any of the coding packages we've used in class (numpy, pandas, pyspark, scikit-learn, etc.) and you must write and submit working code. Reminder, you cannot use ChatGPT or similar technologies. Please see the syllabus for more details."
      ]
    },
    {
      "cell_type": "markdown",
      "id": "251f9f7c-f61d-41d9-a0bc-03803ee34377",
      "metadata": {
        "id": "251f9f7c-f61d-41d9-a0bc-03803ee34377"
      },
      "source": [
        "### You also need to submit a short report of your work describing all steps you took, explanations of why you took those steps, results, what you learned, how you might use what you learned in the future, and your conclusions. We expect the report to be well-written and clearly describe everything you've done and why."
      ]
    },
    {
      "cell_type": "markdown",
      "id": "7d379108-9103-43da-ac09-2074efe2737c",
      "metadata": {
        "id": "7d379108-9103-43da-ac09-2074efe2737c"
      },
      "source": [
        "---"
      ]
    },
    {
      "cell_type": "markdown",
      "id": "dd51e918-fc0c-40df-9e41-ea75d18637ea",
      "metadata": {
        "id": "dd51e918-fc0c-40df-9e41-ea75d18637ea"
      },
      "source": [
        "### Write your code here"
      ]
    },
    {
      "cell_type": "code",
      "execution_count": 191,
      "id": "b965d31b-a2d6-46a6-a7bd-80d6ad9f86a0",
      "metadata": {
        "id": "b965d31b-a2d6-46a6-a7bd-80d6ad9f86a0"
      },
      "outputs": [],
      "source": [
        "# !apt-get install openjdk-8-jdk-headless -qq > /dev/null\n",
        "# !wget -q http://archive.apache.org/dist/spark/spark-3.5.3/spark-3.5.3-bin-hadoop3.tgz\n",
        "# !tar xf spark-3.5.3-bin-hadoop3.tgz\n",
        "# !pip install -q findspark\n",
        "\n",
        "# import os\n",
        "# os.environ[\"JAVA_HOME\"] = \"/usr/lib/jvm/java-8-openjdk-amd64\"\n",
        "# os.environ[\"SPARK_HOME\"] = \"/content/spark-3.5.3-bin-hadoop3\""
      ]
    },
    {
      "cell_type": "code",
      "execution_count": 192,
      "id": "67c08bed-660a-4033-8917-d40927dc5f8a",
      "metadata": {
        "id": "67c08bed-660a-4033-8917-d40927dc5f8a"
      },
      "outputs": [],
      "source": [
        "import findspark\n",
        "findspark.init()\n",
        "from pyspark.sql import SparkSession, DataFrame\n",
        "spark = SparkSession.builder.getOrCreate()\n",
        "import pyspark.sql.functions  as F\n",
        "from pyspark.ml.feature import StringIndexer, OneHotEncoder, VectorAssembler,StandardScaler\n",
        "from sklearn.model_selection import  cross_val_score\n",
        "from sklearn.metrics import accuracy_score, confusion_matrix\n",
        "import pandas as pd\n",
        "from sklearn import svm\n",
        "from sklearn.linear_model import LogisticRegression\n",
        "from sklearn.ensemble import RandomForestClassifier\n",
        "from sklearn.neighbors import KNeighborsClassifier\n",
        "import matplotlib.pyplot as plt\n",
        "import seaborn as sns"
      ]
    },
    {
      "cell_type": "code",
      "execution_count": 193,
      "id": "b46ea36a-bd14-4914-ae11-5e1ced4b3bd0",
      "metadata": {
        "colab": {
          "base_uri": "https://localhost:8080/"
        },
        "id": "b46ea36a-bd14-4914-ae11-5e1ced4b3bd0",
        "outputId": "4b9f53fc-ed71-4704-9c73-bbae9286e0e2"
      },
      "outputs": [
        {
          "output_type": "stream",
          "name": "stdout",
          "text": [
            "+-----------+--------+------+------+----+-----+-----+-------+-----------+--------+\n",
            "|PassengerId|Survived|Pclass|   Sex| Age|SibSp|Parch|   Fare|      Cabin|Embarked|\n",
            "+-----------+--------+------+------+----+-----+-----+-------+-----------+--------+\n",
            "|          1|       0|     3|  male|22.0|    1|    0|   7.25|       NULL|       S|\n",
            "|          2|       1|     1|female|38.0|    1|    0|71.2833|        C85|       C|\n",
            "|          3|       1|     3|female|26.0|    0|    0|  7.925|       NULL|       S|\n",
            "|          4|       1|     1|female|35.0|    1|    0|   53.1|       C123|       S|\n",
            "|          5|       0|     3|  male|35.0|    0|    0|   8.05|       NULL|       S|\n",
            "|          6|       0|     3|  male|NULL|    0|    0| 8.4583|       NULL|       Q|\n",
            "|          7|       0|     1|  male|54.0|    0|    0|51.8625|        E46|       S|\n",
            "|          8|       0|     3|  male| 2.0|    3|    1| 21.075|       NULL|       S|\n",
            "|          9|       1|     3|female|27.0|    0|    2|11.1333|       NULL|       S|\n",
            "|         10|       1|     2|female|14.0|    1|    0|30.0708|       NULL|       C|\n",
            "|         11|       1|     3|female| 4.0|    1|    1|   16.7|         G6|       S|\n",
            "|         12|       1|     1|female|58.0|    0|    0|  26.55|       C103|       S|\n",
            "|         13|       0|  NULL|  male|20.0| NULL|    0|   8.05|       NULL|       S|\n",
            "|         14|       0|     3|  male|39.0|    1|    5| 31.275|       NULL|       S|\n",
            "|         15|       0|     3|female|14.0|    0|    0| 7.8542|       NULL|       S|\n",
            "|         16|       1|     2|female|55.0|    0|    0|   16.0|       NULL|       S|\n",
            "|         17|       0|     3|  male| 2.0|    4|    1| 29.125|       NULL|       Q|\n",
            "|         18|       1|     2|  male|NULL|    0|    0|   13.0|       NULL|       S|\n",
            "|         19|       0|     3|female|31.0|    1|    0|   18.0|       NULL|       S|\n",
            "|         20|       1|     3|female|NULL|    0|    0|  7.225|       NULL|       C|\n",
            "|         21|       0|     2|  male|35.0|    0|    0|   26.0|       NULL|       S|\n",
            "|         22|       1|     2|  male|34.0|    0|    0|   13.0|        D56|    NULL|\n",
            "|         23|       1|     3|female|15.0|    0|    0| 8.0292|       NULL|       Q|\n",
            "|         24|       1|     1|  male|28.0|    0|    0|   35.5|         A6|       S|\n",
            "|         25|       0|     3|female| 8.0|  300|    1| 21.075|       NULL|       S|\n",
            "|         26|       1|     3|female|38.0|    1|    5|31.3875|       NULL|       S|\n",
            "|         27|       0|     3|  male|NULL|    0|    0|  7.225|       NULL|       C|\n",
            "|         28|       0|     1|  male|19.0|    3|    2|  263.0|C23 C25 C27|       S|\n",
            "|         29|       1|     3|female|NULL|    0|    0| 7.8792|       NULL|       Q|\n",
            "|         30|       0|     3|  male|NULL|    0|    0| 7.8958|       NULL|       S|\n",
            "+-----------+--------+------+------+----+-----+-----+-------+-----------+--------+\n",
            "only showing top 30 rows\n",
            "\n"
          ]
        }
      ],
      "source": [
        "def load_data(path: str) -> DataFrame:\n",
        "    df = spark.read.csv(path, header=True, inferSchema=True)\n",
        "    return df\n",
        "\n",
        "df = load_data(\"titanic_dataset_csci4521.csv\")\n",
        "df = df.drop(\"Name\")\n",
        "df = df.drop(\"Ticket\")\n",
        "df.show(30)\n",
        "df.drop()\n",
        "target = df.select(\"Survived\")\n",
        "features = [col for col in df.columns if col != \"Survived\" and col != \"PassengerId\"]"
      ]
    },
    {
      "cell_type": "code",
      "source": [
        "def analyze_data(df: DataFrame,features: list) -> None:\n",
        "    print(f\"Number of samples: {df.count()}\")\n",
        "    print(f\"Number of features: {len(features)}\")\n",
        "    for f in features:\n",
        "        if f == \"Cabin\":\n",
        "            missing_values = df.filter(F.col(\"Cabin\").isNull())\n",
        "            print(f\"Number of missing cabin values: {missing_values.count()}\")\n",
        "            df.filter(F.col(\"Cabin\").isNotNull() & (F.col(\"Cabin\") != \"\")).select(\"Cabin\", \"Fare\", \"Pclass\").show(30)\n",
        "        else:\n",
        "            df.select(F.mode(F.col(f)), F.mean(F.col(f)),F.stddev(F.col(f)), F.min(F.col(f)), F.max(F.col(f))).show()\n",
        "\n",
        "analyze_data(df, features)\n",
        "# 1st class cutoff: ≥ 35.5\n",
        "# 2nd class cutoff: ≥ 10.5\n",
        "# 3rd class cutoff: < 10.5"
      ],
      "metadata": {
        "colab": {
          "base_uri": "https://localhost:8080/"
        },
        "id": "pdFREKD3ELKb",
        "outputId": "6c73d44c-9944-462c-d67c-630612540543"
      },
      "id": "pdFREKD3ELKb",
      "execution_count": 194,
      "outputs": [
        {
          "output_type": "stream",
          "name": "stdout",
          "text": [
            "Number of samples: 894\n",
            "Number of features: 8\n",
            "+------------+------------------+------------------+-----------+-----------+\n",
            "|mode(Pclass)|       avg(Pclass)|    stddev(Pclass)|min(Pclass)|max(Pclass)|\n",
            "+------------+------------------+------------------+-----------+-----------+\n",
            "|           3|2.3080407701019254|0.8358553066015733|          1|          3|\n",
            "+------------+------------------+------------------+-----------+-----------+\n",
            "\n",
            "+---------+--------+-----------+--------+--------+\n",
            "|mode(Sex)|avg(Sex)|stddev(Sex)|min(Sex)|max(Sex)|\n",
            "+---------+--------+-----------+--------+--------+\n",
            "|     male|    NULL|       NULL|  female|    male|\n",
            "+---------+--------+-----------+--------+--------+\n",
            "\n",
            "+---------+-----------------+-----------------+--------+--------+\n",
            "|mode(Age)|         avg(Age)|      stddev(Age)|min(Age)|max(Age)|\n",
            "+---------+-----------------+-----------------+--------+--------+\n",
            "|     24.0|30.48627094972067|23.72384742035713|   -17.0|   500.0|\n",
            "+---------+-----------------+-----------------+--------+--------+\n",
            "\n",
            "+-----------+------------------+-----------------+----------+----------+\n",
            "|mode(SibSp)|        avg(SibSp)|    stddev(SibSp)|min(SibSp)|max(SibSp)|\n",
            "+-----------+------------------+-----------------+----------+----------+\n",
            "|          0|0.8499440089585666|10.08238999450755|        -3|       300|\n",
            "+-----------+------------------+-----------------+----------+----------+\n",
            "\n",
            "+-----------+-----------------+-----------------+----------+----------+\n",
            "|mode(Parch)|       avg(Parch)|    stddev(Parch)|min(Parch)|max(Parch)|\n",
            "+-----------+-----------------+-----------------+----------+----------+\n",
            "|          0|2.615212527964206|66.88217006897335|         0|      2000|\n",
            "+-----------+-----------------+-----------------+----------+----------+\n",
            "\n",
            "+----------+-----------------+----------------+---------+---------+\n",
            "|mode(Fare)|        avg(Fare)|    stddev(Fare)|min(Fare)|max(Fare)|\n",
            "+----------+-----------------+----------------+---------+---------+\n",
            "|      8.05|32.18915838926171|49.6250740726904|      0.0| 512.3292|\n",
            "+----------+-----------------+----------------+---------+---------+\n",
            "\n",
            "Number of missing cabin values: 690\n",
            "+-----------+--------+------+\n",
            "|      Cabin|    Fare|Pclass|\n",
            "+-----------+--------+------+\n",
            "|        C85| 71.2833|     1|\n",
            "|       C123|    53.1|     1|\n",
            "|        E46| 51.8625|     1|\n",
            "|         G6|    16.7|     3|\n",
            "|       C103|   26.55|     1|\n",
            "|        D56|    13.0|     2|\n",
            "|         A6|    35.5|     1|\n",
            "|C23 C25 C27|   263.0|     1|\n",
            "|        B78|146.5208|     1|\n",
            "|        D33| 76.7292|     1|\n",
            "|        B30| 61.9792|     1|\n",
            "|        C52|    35.5|     1|\n",
            "|        B28|    80.0|     1|\n",
            "|        C83|  83.475|     1|\n",
            "|        F33|    10.5|     2|\n",
            "|      F G73|    7.65|     3|\n",
            "|C23 C25 C27|   263.0|     1|\n",
            "|        E31|  61.175|  NULL|\n",
            "|         A5| 34.6542|     1|\n",
            "|    D10 D12| 63.3583|     1|\n",
            "|        D26| 77.2875|     1|\n",
            "|       C110|    52.0|     1|\n",
            "|    B58 B60|247.5208|     1|\n",
            "|       E101|    13.0|     2|\n",
            "|        D26| 77.2875|     1|\n",
            "|      F E69| 22.3583|     3|\n",
            "|        D47| 26.2833|     1|\n",
            "|       C123|    53.1|     1|\n",
            "|        B86|    79.2|     1|\n",
            "|         F2|    26.0|     2|\n",
            "+-----------+--------+------+\n",
            "only showing top 30 rows\n",
            "\n",
            "+--------------+-------------+----------------+-------------+-------------+\n",
            "|mode(Embarked)|avg(Embarked)|stddev(Embarked)|min(Embarked)|max(Embarked)|\n",
            "+--------------+-------------+----------------+-------------+-------------+\n",
            "|             S|         NULL|            NULL|            C|            S|\n",
            "+--------------+-------------+----------------+-------------+-------------+\n",
            "\n"
          ]
        }
      ]
    },
    {
      "cell_type": "code",
      "source": [
        "def replace_missing(df: DataFrame, features: list) -> DataFrame:\n",
        "\n",
        "    for f in features:\n",
        "\n",
        "        if f == \"Age\":\n",
        "            resonable_ages = df.filter((F.col(f) >= 0) & (F.col(f) <= 100))\n",
        "            avg_age = resonable_ages.select(F.mean(F.col(f))).collect()[0][0]\n",
        "            df = df.withColumn(f, F.when(F.col(f).isNull(), avg_age).otherwise(F.col(f))) #\n",
        "        elif f == \"Cabin\":\n",
        "            df = df.withColumn(f,\n",
        "                               F.when(F.col(\"Fare\") >= 35.5, \"A\").when((F.col(\"Fare\") >= 10.5) & (F.col(\"Fare\") < 35.5),\n",
        "                                                                        \"B\").otherwise(\"C\"))\n",
        "        elif f == \"Pclass\":\n",
        "            df = df.withColumn(f, F.when(F.col(\"Fare\") >= 35.5, 1).when((F.col(\"Fare\") >= 10.5) & (F.col(\"Fare\") < 35.5),\n",
        "                                                                        2).otherwise(3))\n",
        "        else:\n",
        "            mode = df.select(F.mode(F.col(f))).collect()[0][0]\n",
        "            df = df.withColumn(f, F.when(F.col(f).isNull(), mode).otherwise(F.col(f)))\n",
        "    return df\n",
        "\n",
        "df = replace_missing(df, features)\n",
        "df.show(30)"
      ],
      "metadata": {
        "colab": {
          "base_uri": "https://localhost:8080/"
        },
        "id": "TmRAuLcFEMzW",
        "outputId": "466f0733-5f0f-43a7-b579-ebf5cca71d6d"
      },
      "id": "TmRAuLcFEMzW",
      "execution_count": 195,
      "outputs": [
        {
          "output_type": "stream",
          "name": "stdout",
          "text": [
            "+-----------+--------+------+------+------------------+-----+-----+-------+-----+--------+\n",
            "|PassengerId|Survived|Pclass|   Sex|               Age|SibSp|Parch|   Fare|Cabin|Embarked|\n",
            "+-----------+--------+------+------+------------------+-----+-----+-------+-----+--------+\n",
            "|          1|       0|     3|  male|              22.0|    1|    0|   7.25|    C|       S|\n",
            "|          2|       1|     1|female|              38.0|    1|    0|71.2833|    A|       C|\n",
            "|          3|       1|     3|female|              26.0|    0|    0|  7.925|    C|       S|\n",
            "|          4|       1|     1|female|              35.0|    1|    0|   53.1|    A|       S|\n",
            "|          5|       0|     3|  male|              35.0|    0|    0|   8.05|    C|       S|\n",
            "|          6|       0|     3|  male|29.702485955056176|    0|    0| 8.4583|    C|       Q|\n",
            "|          7|       0|     1|  male|              54.0|    0|    0|51.8625|    A|       S|\n",
            "|          8|       0|     2|  male|               2.0|    3|    1| 21.075|    B|       S|\n",
            "|          9|       1|     2|female|              27.0|    0|    2|11.1333|    B|       S|\n",
            "|         10|       1|     2|female|              14.0|    1|    0|30.0708|    B|       C|\n",
            "|         11|       1|     2|female|               4.0|    1|    1|   16.7|    B|       S|\n",
            "|         12|       1|     2|female|              58.0|    0|    0|  26.55|    B|       S|\n",
            "|         13|       0|     3|  male|              20.0|    0|    0|   8.05|    C|       S|\n",
            "|         14|       0|     2|  male|              39.0|    1|    5| 31.275|    B|       S|\n",
            "|         15|       0|     3|female|              14.0|    0|    0| 7.8542|    C|       S|\n",
            "|         16|       1|     2|female|              55.0|    0|    0|   16.0|    B|       S|\n",
            "|         17|       0|     2|  male|               2.0|    4|    1| 29.125|    B|       Q|\n",
            "|         18|       1|     2|  male|29.702485955056176|    0|    0|   13.0|    B|       S|\n",
            "|         19|       0|     2|female|              31.0|    1|    0|   18.0|    B|       S|\n",
            "|         20|       1|     3|female|29.702485955056176|    0|    0|  7.225|    C|       C|\n",
            "|         21|       0|     2|  male|              35.0|    0|    0|   26.0|    B|       S|\n",
            "|         22|       1|     2|  male|              34.0|    0|    0|   13.0|    B|       S|\n",
            "|         23|       1|     3|female|              15.0|    0|    0| 8.0292|    C|       Q|\n",
            "|         24|       1|     1|  male|              28.0|    0|    0|   35.5|    A|       S|\n",
            "|         25|       0|     2|female|               8.0|  300|    1| 21.075|    B|       S|\n",
            "|         26|       1|     2|female|              38.0|    1|    5|31.3875|    B|       S|\n",
            "|         27|       0|     3|  male|29.702485955056176|    0|    0|  7.225|    C|       C|\n",
            "|         28|       0|     1|  male|              19.0|    3|    2|  263.0|    A|       S|\n",
            "|         29|       1|     3|female|29.702485955056176|    0|    0| 7.8792|    C|       Q|\n",
            "|         30|       0|     3|  male|29.702485955056176|    0|    0| 7.8958|    C|       S|\n",
            "+-----------+--------+------+------+------------------+-----+-----+-------+-----+--------+\n",
            "only showing top 30 rows\n",
            "\n"
          ]
        }
      ]
    },
    {
      "cell_type": "code",
      "source": [
        "print(f\"Before removing duplicates:{df.count()}\")\n",
        "def remove_duplicates(df: DataFrame):\n",
        "    duplicates = df.groupBy(\"PassengerId\").count().where(F.col(\"count\") > 1)\n",
        "    duplicates.show()\n",
        "    df = df.dropDuplicates([\"PassengerId\"])\n",
        "    return df\n",
        "\n",
        "df = remove_duplicates(df)\n",
        "df.show(30)\n",
        "print(f\"After removing duplicates:{df.count()}\")"
      ],
      "metadata": {
        "colab": {
          "base_uri": "https://localhost:8080/"
        },
        "id": "reClpe5oEYz5",
        "outputId": "4f995d6e-85ee-4768-aa46-b63fe161ac1d"
      },
      "id": "reClpe5oEYz5",
      "execution_count": 196,
      "outputs": [
        {
          "output_type": "stream",
          "name": "stdout",
          "text": [
            "Before removing duplicates:894\n",
            "+-----------+-----+\n",
            "|PassengerId|count|\n",
            "+-----------+-----+\n",
            "|        164|    2|\n",
            "|        510|    2|\n",
            "|        334|    2|\n",
            "+-----------+-----+\n",
            "\n",
            "+-----------+--------+------+------+------------------+-----+-----+-------+-----+--------+\n",
            "|PassengerId|Survived|Pclass|   Sex|               Age|SibSp|Parch|   Fare|Cabin|Embarked|\n",
            "+-----------+--------+------+------+------------------+-----+-----+-------+-----+--------+\n",
            "|          1|       0|     3|  male|              22.0|    1|    0|   7.25|    C|       S|\n",
            "|          2|       1|     1|female|              38.0|    1|    0|71.2833|    A|       C|\n",
            "|          3|       1|     3|female|              26.0|    0|    0|  7.925|    C|       S|\n",
            "|          4|       1|     1|female|              35.0|    1|    0|   53.1|    A|       S|\n",
            "|          5|       0|     3|  male|              35.0|    0|    0|   8.05|    C|       S|\n",
            "|          6|       0|     3|  male|29.702485955056176|    0|    0| 8.4583|    C|       Q|\n",
            "|          7|       0|     1|  male|              54.0|    0|    0|51.8625|    A|       S|\n",
            "|          8|       0|     2|  male|               2.0|    3|    1| 21.075|    B|       S|\n",
            "|          9|       1|     2|female|              27.0|    0|    2|11.1333|    B|       S|\n",
            "|         10|       1|     2|female|              14.0|    1|    0|30.0708|    B|       C|\n",
            "|         11|       1|     2|female|               4.0|    1|    1|   16.7|    B|       S|\n",
            "|         12|       1|     2|female|              58.0|    0|    0|  26.55|    B|       S|\n",
            "|         13|       0|     3|  male|              20.0|    0|    0|   8.05|    C|       S|\n",
            "|         14|       0|     2|  male|              39.0|    1|    5| 31.275|    B|       S|\n",
            "|         15|       0|     3|female|              14.0|    0|    0| 7.8542|    C|       S|\n",
            "|         16|       1|     2|female|              55.0|    0|    0|   16.0|    B|       S|\n",
            "|         17|       0|     2|  male|               2.0|    4|    1| 29.125|    B|       Q|\n",
            "|         18|       1|     2|  male|29.702485955056176|    0|    0|   13.0|    B|       S|\n",
            "|         19|       0|     2|female|              31.0|    1|    0|   18.0|    B|       S|\n",
            "|         20|       1|     3|female|29.702485955056176|    0|    0|  7.225|    C|       C|\n",
            "|         21|       0|     2|  male|              35.0|    0|    0|   26.0|    B|       S|\n",
            "|         22|       1|     2|  male|              34.0|    0|    0|   13.0|    B|       S|\n",
            "|         23|       1|     3|female|              15.0|    0|    0| 8.0292|    C|       Q|\n",
            "|         24|       1|     1|  male|              28.0|    0|    0|   35.5|    A|       S|\n",
            "|         25|       0|     2|female|               8.0|  300|    1| 21.075|    B|       S|\n",
            "|         26|       1|     2|female|              38.0|    1|    5|31.3875|    B|       S|\n",
            "|         27|       0|     3|  male|29.702485955056176|    0|    0|  7.225|    C|       C|\n",
            "|         28|       0|     1|  male|              19.0|    3|    2|  263.0|    A|       S|\n",
            "|         29|       1|     3|female|29.702485955056176|    0|    0| 7.8792|    C|       Q|\n",
            "|         30|       0|     3|  male|29.702485955056176|    0|    0| 7.8958|    C|       S|\n",
            "+-----------+--------+------+------+------------------+-----+-----+-------+-----+--------+\n",
            "only showing top 30 rows\n",
            "\n",
            "After removing duplicates:891\n"
          ]
        }
      ]
    },
    {
      "cell_type": "code",
      "source": [
        "analyze_data(df,features)"
      ],
      "metadata": {
        "colab": {
          "base_uri": "https://localhost:8080/"
        },
        "id": "VxCq9alclxID",
        "outputId": "ac2abaae-3992-4adc-883f-16f2d4d715aa"
      },
      "id": "VxCq9alclxID",
      "execution_count": 197,
      "outputs": [
        {
          "output_type": "stream",
          "name": "stdout",
          "text": [
            "Number of samples: 891\n",
            "Number of features: 8\n",
            "+------------+------------------+-----------------+-----------+-----------+\n",
            "|mode(Pclass)|       avg(Pclass)|   stddev(Pclass)|min(Pclass)|max(Pclass)|\n",
            "+------------+------------------+-----------------+-----------+-----------+\n",
            "|           2|2.1582491582491583|0.760460289862104|          1|          3|\n",
            "+------------+------------------+-----------------+-----------+-----------+\n",
            "\n",
            "+---------+--------+-----------+--------+--------+\n",
            "|mode(Sex)|avg(Sex)|stddev(Sex)|min(Sex)|max(Sex)|\n",
            "+---------+--------+-----------+--------+--------+\n",
            "|     male|    NULL|       NULL|  female|    male|\n",
            "+---------+--------+-----------+--------+--------+\n",
            "\n",
            "+------------------+-----------------+------------------+--------+--------+\n",
            "|         mode(Age)|         avg(Age)|       stddev(Age)|min(Age)|max(Age)|\n",
            "+------------------+-----------------+------------------+--------+--------+\n",
            "|29.702485955056176|30.36611952861944|21.255576857980408|   -17.0|   500.0|\n",
            "+------------------+-----------------+------------------+--------+--------+\n",
            "\n",
            "+-----------+------------------+------------------+----------+----------+\n",
            "|mode(SibSp)|        avg(SibSp)|     stddev(SibSp)|min(SibSp)|max(SibSp)|\n",
            "+-----------+------------------+------------------+----------+----------+\n",
            "|          0|0.8496071829405163|10.093598336253093|        -3|       300|\n",
            "+-----------+------------------+------------------+----------+----------+\n",
            "\n",
            "+-----------+------------------+-----------------+----------+----------+\n",
            "|mode(Parch)|        avg(Parch)|    stddev(Parch)|min(Parch)|max(Parch)|\n",
            "+-----------+------------------+-----------------+----------+----------+\n",
            "|          0|2.6240179573512905|66.99462535893419|         0|      2000|\n",
            "+-----------+------------------+-----------------+----------+----------+\n",
            "\n",
            "+----------+-----------------+-----------------+---------+---------+\n",
            "|mode(Fare)|        avg(Fare)|     stddev(Fare)|min(Fare)|max(Fare)|\n",
            "+----------+-----------------+-----------------+---------+---------+\n",
            "|      8.05|32.20420796857457|49.69342859718088|      0.0| 512.3292|\n",
            "+----------+-----------------+-----------------+---------+---------+\n",
            "\n",
            "Number of missing cabin values: 0\n",
            "+-----+-------+------+\n",
            "|Cabin|   Fare|Pclass|\n",
            "+-----+-------+------+\n",
            "|    C|   7.25|     3|\n",
            "|    A|71.2833|     1|\n",
            "|    C|  7.925|     3|\n",
            "|    A|   53.1|     1|\n",
            "|    C|   8.05|     3|\n",
            "|    C| 8.4583|     3|\n",
            "|    A|51.8625|     1|\n",
            "|    B| 21.075|     2|\n",
            "|    B|11.1333|     2|\n",
            "|    B|30.0708|     2|\n",
            "|    B|   16.7|     2|\n",
            "|    B|  26.55|     2|\n",
            "|    C|   8.05|     3|\n",
            "|    B| 31.275|     2|\n",
            "|    C| 7.8542|     3|\n",
            "|    B|   16.0|     2|\n",
            "|    B| 29.125|     2|\n",
            "|    B|   13.0|     2|\n",
            "|    B|   18.0|     2|\n",
            "|    C|  7.225|     3|\n",
            "|    B|   26.0|     2|\n",
            "|    B|   13.0|     2|\n",
            "|    C| 8.0292|     3|\n",
            "|    A|   35.5|     1|\n",
            "|    B| 21.075|     2|\n",
            "|    B|31.3875|     2|\n",
            "|    C|  7.225|     3|\n",
            "|    A|  263.0|     1|\n",
            "|    C| 7.8792|     3|\n",
            "|    C| 7.8958|     3|\n",
            "+-----+-------+------+\n",
            "only showing top 30 rows\n",
            "\n",
            "+--------------+-------------+----------------+-------------+-------------+\n",
            "|mode(Embarked)|avg(Embarked)|stddev(Embarked)|min(Embarked)|max(Embarked)|\n",
            "+--------------+-------------+----------------+-------------+-------------+\n",
            "|             S|         NULL|            NULL|            C|            S|\n",
            "+--------------+-------------+----------------+-------------+-------------+\n",
            "\n"
          ]
        }
      ]
    },
    {
      "cell_type": "code",
      "source": [
        "print(f'Before removing outliers: {df.count()}')\n",
        "def remove_outliers(df: DataFrame, features: list) -> DataFrame:\n",
        "    result = df\n",
        "\n",
        "    for f in features:\n",
        "        if f not in [\"Age\", \"Fare\", \"SibSp\", \"Parch\"]:\n",
        "            continue\n",
        "\n",
        "        if f == \"Age\":\n",
        "            result = result.filter((F.col(f) >= 0) & (F.col(f) <= 100))\n",
        "\n",
        "        elif f == \"Fare\":\n",
        "            result = result.filter(F.col(f) <= 350)\n",
        "\n",
        "        elif f == \"SibSp\" or f == \"Parch\":\n",
        "            result = result.filter((F.col(f) >= 0) & (F.col(f) <= 10))\n",
        "\n",
        "        avg_val = result.select(F.mean(F.col(f))).collect()[0][0]\n",
        "        std_val = result.select(F.stddev(F.col(f))).collect()[0][0]\n",
        "\n",
        "        if std_val is None or avg_val is None:\n",
        "            continue\n",
        "        cut_off = 3 * std_val\n",
        "        lower = avg_val - cut_off\n",
        "        upper = avg_val + cut_off\n",
        "        result = result.filter(F.col(f).between(lower, upper))\n",
        "\n",
        "    return result\n",
        "\n",
        "df = remove_outliers(df, features)\n",
        "target = df.select(\"Survived\")\n",
        "print(f\"After removing outliers: {df.count()}\")\n",
        "df.show(30)"
      ],
      "metadata": {
        "colab": {
          "base_uri": "https://localhost:8080/"
        },
        "id": "eA6fKcEQlmZI",
        "outputId": "7fbac17d-d2dc-41c4-c8fd-855356d2f21c"
      },
      "id": "eA6fKcEQlmZI",
      "execution_count": 198,
      "outputs": [
        {
          "output_type": "stream",
          "name": "stdout",
          "text": [
            "Before removing outliers: 891\n",
            "After removing outliers: 808\n",
            "+-----------+--------+------+------+------------------+-----+-----+--------+-----+--------+\n",
            "|PassengerId|Survived|Pclass|   Sex|               Age|SibSp|Parch|    Fare|Cabin|Embarked|\n",
            "+-----------+--------+------+------+------------------+-----+-----+--------+-----+--------+\n",
            "|          1|       0|     3|  male|              22.0|    1|    0|    7.25|    C|       S|\n",
            "|          2|       1|     1|female|              38.0|    1|    0| 71.2833|    A|       C|\n",
            "|          3|       1|     3|female|              26.0|    0|    0|   7.925|    C|       S|\n",
            "|          4|       1|     1|female|              35.0|    1|    0|    53.1|    A|       S|\n",
            "|          5|       0|     3|  male|              35.0|    0|    0|    8.05|    C|       S|\n",
            "|          6|       0|     3|  male|29.702485955056176|    0|    0|  8.4583|    C|       Q|\n",
            "|          7|       0|     1|  male|              54.0|    0|    0| 51.8625|    A|       S|\n",
            "|          8|       0|     2|  male|               2.0|    3|    1|  21.075|    B|       S|\n",
            "|          9|       1|     2|female|              27.0|    0|    2| 11.1333|    B|       S|\n",
            "|         10|       1|     2|female|              14.0|    1|    0| 30.0708|    B|       C|\n",
            "|         11|       1|     2|female|               4.0|    1|    1|    16.7|    B|       S|\n",
            "|         12|       1|     2|female|              58.0|    0|    0|   26.55|    B|       S|\n",
            "|         13|       0|     3|  male|              20.0|    0|    0|    8.05|    C|       S|\n",
            "|         15|       0|     3|female|              14.0|    0|    0|  7.8542|    C|       S|\n",
            "|         16|       1|     2|female|              55.0|    0|    0|    16.0|    B|       S|\n",
            "|         18|       1|     2|  male|29.702485955056176|    0|    0|    13.0|    B|       S|\n",
            "|         19|       0|     2|female|              31.0|    1|    0|    18.0|    B|       S|\n",
            "|         20|       1|     3|female|29.702485955056176|    0|    0|   7.225|    C|       C|\n",
            "|         21|       0|     2|  male|              35.0|    0|    0|    26.0|    B|       S|\n",
            "|         22|       1|     2|  male|              34.0|    0|    0|    13.0|    B|       S|\n",
            "|         23|       1|     3|female|              15.0|    0|    0|  8.0292|    C|       Q|\n",
            "|         24|       1|     1|  male|              28.0|    0|    0|    35.5|    A|       S|\n",
            "|         27|       0|     3|  male|29.702485955056176|    0|    0|   7.225|    C|       C|\n",
            "|         29|       1|     3|female|29.702485955056176|    0|    0|  7.8792|    C|       Q|\n",
            "|         30|       0|     3|  male|29.702485955056176|    0|    0|  7.8958|    C|       S|\n",
            "|         31|       0|     2|  male|              40.0|    0|    0| 27.7208|    B|       C|\n",
            "|         32|       1|     1|female|29.702485955056176|    1|    0|146.5208|    A|       C|\n",
            "|         33|       1|     3|female|29.702485955056176|    0|    0|    7.75|    C|       Q|\n",
            "|         34|       0|     2|  male|              66.0|    0|    0|    10.5|    B|       S|\n",
            "|         35|       0|     1|  male|              28.0|    1|    0| 82.1708|    A|       C|\n",
            "+-----------+--------+------+------+------------------+-----+-----+--------+-----+--------+\n",
            "only showing top 30 rows\n",
            "\n"
          ]
        }
      ]
    },
    {
      "cell_type": "code",
      "source": [
        "analyze_data(df, features)"
      ],
      "metadata": {
        "colab": {
          "base_uri": "https://localhost:8080/"
        },
        "id": "LAcQUFYmnk1f",
        "outputId": "93e2048e-10ca-4389-fe5f-a2470ba04b44"
      },
      "id": "LAcQUFYmnk1f",
      "execution_count": 199,
      "outputs": [
        {
          "output_type": "stream",
          "name": "stdout",
          "text": [
            "Number of samples: 808\n",
            "Number of features: 8\n",
            "+------------+----------------+------------------+-----------+-----------+\n",
            "|mode(Pclass)|     avg(Pclass)|    stddev(Pclass)|min(Pclass)|max(Pclass)|\n",
            "+------------+----------------+------------------+-----------+-----------+\n",
            "|           3|2.23019801980198|0.7393885148264666|          1|          3|\n",
            "+------------+----------------+------------------+-----------+-----------+\n",
            "\n",
            "+---------+--------+-----------+--------+--------+\n",
            "|mode(Sex)|avg(Sex)|stddev(Sex)|min(Sex)|max(Sex)|\n",
            "+---------+--------+-----------+--------+--------+\n",
            "|     male|    NULL|       NULL|  female|    male|\n",
            "+---------+--------+-----------+--------+--------+\n",
            "\n",
            "+------------------+----------------+------------------+--------+--------+\n",
            "|         mode(Age)|        avg(Age)|       stddev(Age)|min(Age)|max(Age)|\n",
            "+------------------+----------------+------------------+--------+--------+\n",
            "|29.702485955056176|29.8433046118867|12.022755391076906|    0.42|    66.0|\n",
            "+------------------+----------------+------------------+--------+--------+\n",
            "\n",
            "+-----------+------------------+------------------+----------+----------+\n",
            "|mode(SibSp)|        avg(SibSp)|     stddev(SibSp)|min(SibSp)|max(SibSp)|\n",
            "+-----------+------------------+------------------+----------+----------+\n",
            "|          0|0.3378712871287129|0.6002489555936588|         0|         3|\n",
            "+-----------+------------------+------------------+----------+----------+\n",
            "\n",
            "+-----------+-------------------+------------------+----------+----------+\n",
            "|mode(Parch)|         avg(Parch)|     stddev(Parch)|min(Parch)|max(Parch)|\n",
            "+-----------+-------------------+------------------+----------+----------+\n",
            "|          0|0.24504950495049505|0.5560082974114121|         0|         2|\n",
            "+-----------+-------------------+------------------+----------+----------+\n",
            "\n",
            "+----------+-----------------+------------------+---------+---------+\n",
            "|mode(Fare)|        avg(Fare)|      stddev(Fare)|min(Fare)|max(Fare)|\n",
            "+----------+-----------------+------------------+---------+---------+\n",
            "|      8.05|24.75664084158412|27.628765202026557|      0.0|   151.55|\n",
            "+----------+-----------------+------------------+---------+---------+\n",
            "\n",
            "Number of missing cabin values: 0\n",
            "+-----+--------+------+\n",
            "|Cabin|    Fare|Pclass|\n",
            "+-----+--------+------+\n",
            "|    C|    7.25|     3|\n",
            "|    A| 71.2833|     1|\n",
            "|    C|   7.925|     3|\n",
            "|    A|    53.1|     1|\n",
            "|    C|    8.05|     3|\n",
            "|    C|  8.4583|     3|\n",
            "|    A| 51.8625|     1|\n",
            "|    B|  21.075|     2|\n",
            "|    B| 11.1333|     2|\n",
            "|    B| 30.0708|     2|\n",
            "|    B|    16.7|     2|\n",
            "|    B|   26.55|     2|\n",
            "|    C|    8.05|     3|\n",
            "|    C|  7.8542|     3|\n",
            "|    B|    16.0|     2|\n",
            "|    B|    13.0|     2|\n",
            "|    B|    18.0|     2|\n",
            "|    C|   7.225|     3|\n",
            "|    B|    26.0|     2|\n",
            "|    B|    13.0|     2|\n",
            "|    C|  8.0292|     3|\n",
            "|    A|    35.5|     1|\n",
            "|    C|   7.225|     3|\n",
            "|    C|  7.8792|     3|\n",
            "|    C|  7.8958|     3|\n",
            "|    B| 27.7208|     2|\n",
            "|    A|146.5208|     1|\n",
            "|    C|    7.75|     3|\n",
            "|    B|    10.5|     2|\n",
            "|    A| 82.1708|     1|\n",
            "+-----+--------+------+\n",
            "only showing top 30 rows\n",
            "\n",
            "+--------------+-------------+----------------+-------------+-------------+\n",
            "|mode(Embarked)|avg(Embarked)|stddev(Embarked)|min(Embarked)|max(Embarked)|\n",
            "+--------------+-------------+----------------+-------------+-------------+\n",
            "|             S|         NULL|            NULL|            C|            S|\n",
            "+--------------+-------------+----------------+-------------+-------------+\n",
            "\n"
          ]
        }
      ]
    },
    {
      "cell_type": "code",
      "source": [
        "def split_data(df: DataFrame) -> tuple:\n",
        "    train,test = df.randomSplit([0.8, 0.2], seed=42)\n",
        "    return train, test\n",
        "\n",
        "train_df, test_df = split_data(df)\n",
        "print(f\"Train size: {train_df.count()}\")\n",
        "print(f\"Test size: {test_df.count()}\")"
      ],
      "metadata": {
        "colab": {
          "base_uri": "https://localhost:8080/"
        },
        "id": "2OBDyGwqikB0",
        "outputId": "4b69f7f1-34e8-48c0-96e1-4762fb2e9ebf"
      },
      "id": "2OBDyGwqikB0",
      "execution_count": 200,
      "outputs": [
        {
          "output_type": "stream",
          "name": "stdout",
          "text": [
            "Train size: 678\n",
            "Test size: 130\n"
          ]
        }
      ]
    },
    {
      "cell_type": "code",
      "source": [
        "def encode_and_standardize(train_df: DataFrame, test_df: DataFrame) -> tuple:\n",
        "    cat_features = [\"Sex\", \"Embarked\", \"Cabin\"]\n",
        "    for f in cat_features:\n",
        "        indexer = StringIndexer(inputCol=f, outputCol=f + \"_indexed\")\n",
        "        train_df = indexer.fit(train_df).transform(train_df)\n",
        "        test_df = indexer.fit(test_df).transform(test_df)\n",
        "        encoder = OneHotEncoder(inputCol=f + \"_indexed\", outputCol=f + \"_encoded\")\n",
        "        train_df = encoder.fit(train_df).transform(train_df)\n",
        "        test_df = encoder.fit(test_df).transform(test_df)\n",
        "\n",
        "    indexer = StringIndexer(inputCol=\"Survived\", outputCol=\"Label\")\n",
        "    train_df = indexer.fit(train_df).transform(train_df)\n",
        "    test_df = indexer.fit(test_df).transform(test_df)\n",
        "\n",
        "    numeric_features = [\"Pclass\", \"Age\", \"SibSp\", \"Parch\", \"Fare\"]\n",
        "    cat_features_encoded = [\"Sex_encoded\", \"Embarked_encoded\", \"Cabin_encoded\"]\n",
        "\n",
        "    assembler = VectorAssembler(inputCols=numeric_features, outputCol=\"numeric_features\")\n",
        "    train_df = assembler.transform(train_df)\n",
        "    test_df = assembler.transform(test_df)\n",
        "\n",
        "    scaler = StandardScaler(inputCol=\"numeric_features\", outputCol=\"scaled_features\", withStd=True, withMean=True)\n",
        "    train_df = scaler.fit(train_df).transform(train_df)\n",
        "    test_df = scaler.fit(test_df).transform(test_df)\n",
        "\n",
        "    assembler = VectorAssembler(inputCols=cat_features_encoded + [\"scaled_features\"], outputCol=\"features\")\n",
        "    train_df = assembler.transform(train_df)\n",
        "    test_df = assembler.transform(test_df)\n",
        "\n",
        "    train_df = train_df.select(\"features\", \"Label\")\n",
        "    test_df = test_df.select(\"features\", \"Label\")\n",
        "\n",
        "    return train_df, test_df\n",
        "\n",
        "train_df, test_df = encode_and_standardize(train_df, test_df)\n",
        "train_pd = train_df.toPandas()\n",
        "test_pd = test_df.toPandas()\n",
        "train_pd.head()"
      ],
      "metadata": {
        "id": "z-x_tw0q3zdx",
        "colab": {
          "base_uri": "https://localhost:8080/",
          "height": 206
        },
        "outputId": "2fadeece-df68-4f1c-ddcb-1bb38e7ca7a1"
      },
      "id": "z-x_tw0q3zdx",
      "execution_count": 201,
      "outputs": [
        {
          "output_type": "execute_result",
          "data": {
            "text/plain": [
              "                                            features  Label\n",
              "0  [1.0, 1.0, 0.0, 1.0, 0.0, 1.0356338417914215, ...    0.0\n",
              "1  [0.0, 0.0, 1.0, 0.0, 0.0, -1.639260423864141, ...    1.0\n",
              "2  [0.0, 1.0, 0.0, 0.0, 0.0, -1.639260423864141, ...    1.0\n",
              "3  [1.0, 1.0, 0.0, 1.0, 0.0, 1.0356338417914215, ...    0.0\n",
              "4  [1.0, 0.0, 0.0, 1.0, 0.0, 1.0356338417914215, ...    0.0"
            ],
            "text/html": [
              "\n",
              "  <div id=\"df-815e24b1-5ff4-4586-bd8a-266cc620add4\" class=\"colab-df-container\">\n",
              "    <div>\n",
              "<style scoped>\n",
              "    .dataframe tbody tr th:only-of-type {\n",
              "        vertical-align: middle;\n",
              "    }\n",
              "\n",
              "    .dataframe tbody tr th {\n",
              "        vertical-align: top;\n",
              "    }\n",
              "\n",
              "    .dataframe thead th {\n",
              "        text-align: right;\n",
              "    }\n",
              "</style>\n",
              "<table border=\"1\" class=\"dataframe\">\n",
              "  <thead>\n",
              "    <tr style=\"text-align: right;\">\n",
              "      <th></th>\n",
              "      <th>features</th>\n",
              "      <th>Label</th>\n",
              "    </tr>\n",
              "  </thead>\n",
              "  <tbody>\n",
              "    <tr>\n",
              "      <th>0</th>\n",
              "      <td>[1.0, 1.0, 0.0, 1.0, 0.0, 1.0356338417914215, ...</td>\n",
              "      <td>0.0</td>\n",
              "    </tr>\n",
              "    <tr>\n",
              "      <th>1</th>\n",
              "      <td>[0.0, 0.0, 1.0, 0.0, 0.0, -1.639260423864141, ...</td>\n",
              "      <td>1.0</td>\n",
              "    </tr>\n",
              "    <tr>\n",
              "      <th>2</th>\n",
              "      <td>[0.0, 1.0, 0.0, 0.0, 0.0, -1.639260423864141, ...</td>\n",
              "      <td>1.0</td>\n",
              "    </tr>\n",
              "    <tr>\n",
              "      <th>3</th>\n",
              "      <td>[1.0, 1.0, 0.0, 1.0, 0.0, 1.0356338417914215, ...</td>\n",
              "      <td>0.0</td>\n",
              "    </tr>\n",
              "    <tr>\n",
              "      <th>4</th>\n",
              "      <td>[1.0, 0.0, 0.0, 1.0, 0.0, 1.0356338417914215, ...</td>\n",
              "      <td>0.0</td>\n",
              "    </tr>\n",
              "  </tbody>\n",
              "</table>\n",
              "</div>\n",
              "    <div class=\"colab-df-buttons\">\n",
              "\n",
              "  <div class=\"colab-df-container\">\n",
              "    <button class=\"colab-df-convert\" onclick=\"convertToInteractive('df-815e24b1-5ff4-4586-bd8a-266cc620add4')\"\n",
              "            title=\"Convert this dataframe to an interactive table.\"\n",
              "            style=\"display:none;\">\n",
              "\n",
              "  <svg xmlns=\"http://www.w3.org/2000/svg\" height=\"24px\" viewBox=\"0 -960 960 960\">\n",
              "    <path d=\"M120-120v-720h720v720H120Zm60-500h600v-160H180v160Zm220 220h160v-160H400v160Zm0 220h160v-160H400v160ZM180-400h160v-160H180v160Zm440 0h160v-160H620v160ZM180-180h160v-160H180v160Zm440 0h160v-160H620v160Z\"/>\n",
              "  </svg>\n",
              "    </button>\n",
              "\n",
              "  <style>\n",
              "    .colab-df-container {\n",
              "      display:flex;\n",
              "      gap: 12px;\n",
              "    }\n",
              "\n",
              "    .colab-df-convert {\n",
              "      background-color: #E8F0FE;\n",
              "      border: none;\n",
              "      border-radius: 50%;\n",
              "      cursor: pointer;\n",
              "      display: none;\n",
              "      fill: #1967D2;\n",
              "      height: 32px;\n",
              "      padding: 0 0 0 0;\n",
              "      width: 32px;\n",
              "    }\n",
              "\n",
              "    .colab-df-convert:hover {\n",
              "      background-color: #E2EBFA;\n",
              "      box-shadow: 0px 1px 2px rgba(60, 64, 67, 0.3), 0px 1px 3px 1px rgba(60, 64, 67, 0.15);\n",
              "      fill: #174EA6;\n",
              "    }\n",
              "\n",
              "    .colab-df-buttons div {\n",
              "      margin-bottom: 4px;\n",
              "    }\n",
              "\n",
              "    [theme=dark] .colab-df-convert {\n",
              "      background-color: #3B4455;\n",
              "      fill: #D2E3FC;\n",
              "    }\n",
              "\n",
              "    [theme=dark] .colab-df-convert:hover {\n",
              "      background-color: #434B5C;\n",
              "      box-shadow: 0px 1px 3px 1px rgba(0, 0, 0, 0.15);\n",
              "      filter: drop-shadow(0px 1px 2px rgba(0, 0, 0, 0.3));\n",
              "      fill: #FFFFFF;\n",
              "    }\n",
              "  </style>\n",
              "\n",
              "    <script>\n",
              "      const buttonEl =\n",
              "        document.querySelector('#df-815e24b1-5ff4-4586-bd8a-266cc620add4 button.colab-df-convert');\n",
              "      buttonEl.style.display =\n",
              "        google.colab.kernel.accessAllowed ? 'block' : 'none';\n",
              "\n",
              "      async function convertToInteractive(key) {\n",
              "        const element = document.querySelector('#df-815e24b1-5ff4-4586-bd8a-266cc620add4');\n",
              "        const dataTable =\n",
              "          await google.colab.kernel.invokeFunction('convertToInteractive',\n",
              "                                                    [key], {});\n",
              "        if (!dataTable) return;\n",
              "\n",
              "        const docLinkHtml = 'Like what you see? Visit the ' +\n",
              "          '<a target=\"_blank\" href=https://colab.research.google.com/notebooks/data_table.ipynb>data table notebook</a>'\n",
              "          + ' to learn more about interactive tables.';\n",
              "        element.innerHTML = '';\n",
              "        dataTable['output_type'] = 'display_data';\n",
              "        await google.colab.output.renderOutput(dataTable, element);\n",
              "        const docLink = document.createElement('div');\n",
              "        docLink.innerHTML = docLinkHtml;\n",
              "        element.appendChild(docLink);\n",
              "      }\n",
              "    </script>\n",
              "  </div>\n",
              "\n",
              "\n",
              "<div id=\"df-80daf26c-5135-483d-8441-e05e2ba1a06f\">\n",
              "  <button class=\"colab-df-quickchart\" onclick=\"quickchart('df-80daf26c-5135-483d-8441-e05e2ba1a06f')\"\n",
              "            title=\"Suggest charts\"\n",
              "            style=\"display:none;\">\n",
              "\n",
              "<svg xmlns=\"http://www.w3.org/2000/svg\" height=\"24px\"viewBox=\"0 0 24 24\"\n",
              "     width=\"24px\">\n",
              "    <g>\n",
              "        <path d=\"M19 3H5c-1.1 0-2 .9-2 2v14c0 1.1.9 2 2 2h14c1.1 0 2-.9 2-2V5c0-1.1-.9-2-2-2zM9 17H7v-7h2v7zm4 0h-2V7h2v10zm4 0h-2v-4h2v4z\"/>\n",
              "    </g>\n",
              "</svg>\n",
              "  </button>\n",
              "\n",
              "<style>\n",
              "  .colab-df-quickchart {\n",
              "      --bg-color: #E8F0FE;\n",
              "      --fill-color: #1967D2;\n",
              "      --hover-bg-color: #E2EBFA;\n",
              "      --hover-fill-color: #174EA6;\n",
              "      --disabled-fill-color: #AAA;\n",
              "      --disabled-bg-color: #DDD;\n",
              "  }\n",
              "\n",
              "  [theme=dark] .colab-df-quickchart {\n",
              "      --bg-color: #3B4455;\n",
              "      --fill-color: #D2E3FC;\n",
              "      --hover-bg-color: #434B5C;\n",
              "      --hover-fill-color: #FFFFFF;\n",
              "      --disabled-bg-color: #3B4455;\n",
              "      --disabled-fill-color: #666;\n",
              "  }\n",
              "\n",
              "  .colab-df-quickchart {\n",
              "    background-color: var(--bg-color);\n",
              "    border: none;\n",
              "    border-radius: 50%;\n",
              "    cursor: pointer;\n",
              "    display: none;\n",
              "    fill: var(--fill-color);\n",
              "    height: 32px;\n",
              "    padding: 0;\n",
              "    width: 32px;\n",
              "  }\n",
              "\n",
              "  .colab-df-quickchart:hover {\n",
              "    background-color: var(--hover-bg-color);\n",
              "    box-shadow: 0 1px 2px rgba(60, 64, 67, 0.3), 0 1px 3px 1px rgba(60, 64, 67, 0.15);\n",
              "    fill: var(--button-hover-fill-color);\n",
              "  }\n",
              "\n",
              "  .colab-df-quickchart-complete:disabled,\n",
              "  .colab-df-quickchart-complete:disabled:hover {\n",
              "    background-color: var(--disabled-bg-color);\n",
              "    fill: var(--disabled-fill-color);\n",
              "    box-shadow: none;\n",
              "  }\n",
              "\n",
              "  .colab-df-spinner {\n",
              "    border: 2px solid var(--fill-color);\n",
              "    border-color: transparent;\n",
              "    border-bottom-color: var(--fill-color);\n",
              "    animation:\n",
              "      spin 1s steps(1) infinite;\n",
              "  }\n",
              "\n",
              "  @keyframes spin {\n",
              "    0% {\n",
              "      border-color: transparent;\n",
              "      border-bottom-color: var(--fill-color);\n",
              "      border-left-color: var(--fill-color);\n",
              "    }\n",
              "    20% {\n",
              "      border-color: transparent;\n",
              "      border-left-color: var(--fill-color);\n",
              "      border-top-color: var(--fill-color);\n",
              "    }\n",
              "    30% {\n",
              "      border-color: transparent;\n",
              "      border-left-color: var(--fill-color);\n",
              "      border-top-color: var(--fill-color);\n",
              "      border-right-color: var(--fill-color);\n",
              "    }\n",
              "    40% {\n",
              "      border-color: transparent;\n",
              "      border-right-color: var(--fill-color);\n",
              "      border-top-color: var(--fill-color);\n",
              "    }\n",
              "    60% {\n",
              "      border-color: transparent;\n",
              "      border-right-color: var(--fill-color);\n",
              "    }\n",
              "    80% {\n",
              "      border-color: transparent;\n",
              "      border-right-color: var(--fill-color);\n",
              "      border-bottom-color: var(--fill-color);\n",
              "    }\n",
              "    90% {\n",
              "      border-color: transparent;\n",
              "      border-bottom-color: var(--fill-color);\n",
              "    }\n",
              "  }\n",
              "</style>\n",
              "\n",
              "  <script>\n",
              "    async function quickchart(key) {\n",
              "      const quickchartButtonEl =\n",
              "        document.querySelector('#' + key + ' button');\n",
              "      quickchartButtonEl.disabled = true;  // To prevent multiple clicks.\n",
              "      quickchartButtonEl.classList.add('colab-df-spinner');\n",
              "      try {\n",
              "        const charts = await google.colab.kernel.invokeFunction(\n",
              "            'suggestCharts', [key], {});\n",
              "      } catch (error) {\n",
              "        console.error('Error during call to suggestCharts:', error);\n",
              "      }\n",
              "      quickchartButtonEl.classList.remove('colab-df-spinner');\n",
              "      quickchartButtonEl.classList.add('colab-df-quickchart-complete');\n",
              "    }\n",
              "    (() => {\n",
              "      let quickchartButtonEl =\n",
              "        document.querySelector('#df-80daf26c-5135-483d-8441-e05e2ba1a06f button');\n",
              "      quickchartButtonEl.style.display =\n",
              "        google.colab.kernel.accessAllowed ? 'block' : 'none';\n",
              "    })();\n",
              "  </script>\n",
              "</div>\n",
              "\n",
              "    </div>\n",
              "  </div>\n"
            ],
            "application/vnd.google.colaboratory.intrinsic+json": {
              "type": "dataframe",
              "variable_name": "train_pd",
              "summary": "{\n  \"name\": \"train_pd\",\n  \"rows\": 678,\n  \"fields\": [\n    {\n      \"column\": \"features\",\n      \"properties\": {\n        \"dtype\": \"string\",\n        \"num_unique_values\": 586,\n        \"samples\": [\n          \"[1.0,1.0,0.0,1.0,0.0,1.0356338417914215,-0.4446200496830087,-0.5634986595269416,-0.4381639472969315,-0.6474152654658413]\",\n          \"[1.0,1.0,0.0,0.0,1.0,-0.30181329103635984,-2.322886346567473,1.1195502002055089,1.3843830236682177,-0.229309402913209]\",\n          \"[1.0,1.0,0.0,1.0,0.0,1.0356338417914215,-0.5299957904504844,-0.5634986595269416,-0.4381639472969315,-0.5598631831364439]\"\n        ],\n        \"semantic_type\": \"\",\n        \"description\": \"\"\n      }\n    },\n    {\n      \"column\": \"Label\",\n      \"properties\": {\n        \"dtype\": \"number\",\n        \"std\": 0.48796980895392494,\n        \"min\": 0.0,\n        \"max\": 1.0,\n        \"num_unique_values\": 2,\n        \"samples\": [\n          1.0,\n          0.0\n        ],\n        \"semantic_type\": \"\",\n        \"description\": \"\"\n      }\n    }\n  ]\n}"
            }
          },
          "metadata": {},
          "execution_count": 201
        }
      ]
    },
    {
      "cell_type": "markdown",
      "id": "bdc3199a-80a9-4a63-a2d7-56ed2d16755c",
      "metadata": {
        "id": "bdc3199a-80a9-4a63-a2d7-56ed2d16755c"
      },
      "source": [
        "---"
      ]
    },
    {
      "cell_type": "code",
      "source": [
        "def plot_accuracy(hyperparameters, train_accuracy, test_accuracy, model_name):\n",
        "    plt.plot(hyperparameters, train_accuracy, label=\"Train Accuracy\")\n",
        "    plt.plot(hyperparameters, test_accuracy, label=\"Test Accuracy\")\n",
        "    plt.xlabel(\"Hyperparameter\")\n",
        "    plt.ylabel(\"Accuracy\")\n",
        "    plt.title(f\"{model_name} Accuracy\")\n",
        "    plt.legend()\n",
        "\n",
        "def create_confusion_matrix(y_true, y_pred, model):\n",
        "    cm = confusion_matrix(y_true, y_pred)\n",
        "    plt.figure(figsize=(8, 6))\n",
        "    sns.heatmap(cm, annot=True)\n",
        "    plt.title(f\"{model} Confusion Matrix\")\n",
        "    plt.xlabel(\"Predicted y\")\n",
        "    plt.ylabel(\"Actual y\")"
      ],
      "metadata": {
        "id": "QV7PthwYNVbB"
      },
      "id": "QV7PthwYNVbB",
      "execution_count": 202,
      "outputs": []
    },
    {
      "cell_type": "code",
      "source": [
        "def svm_model(train_pd: pd.DataFrame, test_pd: pd.DataFrame) -> tuple:\n",
        "    X_train = train_pd[\"features\"].tolist()\n",
        "    X_test = test_pd[\"features\"].tolist()\n",
        "    y_train = train_pd[\"Label\"].tolist()\n",
        "    y_test = test_pd[\"Label\"].tolist()\n",
        "    test_accuracy = []\n",
        "    train_accuracy = []\n",
        "    best_model = None\n",
        "    best_score = 0\n",
        "\n",
        "    for c in [0.001,0.01,0.1,1]:\n",
        "        model = svm.SVC(C=c, kernel=\"linear\",random_state=42)\n",
        "        scores = cross_val_score(model, X_train, y_train, cv=5)\n",
        "        print(f\"C={c}, avg accuracy: {scores.mean()}\")\n",
        "        model.fit(X_train, y_train)\n",
        "\n",
        "        train_pred = model.predict(X_train)\n",
        "        test_pred = model.predict(X_test)\n",
        "\n",
        "        train_acc = accuracy_score(y_train, train_pred)\n",
        "        test_acc = accuracy_score(y_test, test_pred)\n",
        "        print(f\"C={c}, train accuracy: {train_acc}\")\n",
        "        print(f\"C={c}, test accuracy: {test_acc}\")\n",
        "        train_accuracy.append(train_acc)\n",
        "        test_accuracy.append(test_acc)\n",
        "\n",
        "        if test_acc > best_score:\n",
        "            best_score = test_acc\n",
        "            best_model = model\n",
        "    best_pred = best_model.predict(X_test)\n",
        "\n",
        "    return best_pred, train_accuracy, test_accuracy, y_test\n",
        "\n",
        "\n",
        "y_pred, train_accuracy, test_accuracy, y_test = svm_model(train_pd, test_pd)\n",
        "plot_accuracy([0.001,0.01,0.1,1], train_accuracy, test_accuracy, \"svm\")"
      ],
      "metadata": {
        "id": "rVmpIbCcRqfL",
        "colab": {
          "base_uri": "https://localhost:8080/",
          "height": 692
        },
        "outputId": "b360658a-331d-4448-b452-12444a99bf44"
      },
      "id": "rVmpIbCcRqfL",
      "execution_count": 203,
      "outputs": [
        {
          "output_type": "stream",
          "name": "stdout",
          "text": [
            "C=0.001, avg accuracy: 0.613562091503268\n",
            "C=0.001, train accuracy: 0.6179941002949852\n",
            "C=0.001, test accuracy: 0.6307692307692307\n",
            "C=0.01, avg accuracy: 0.7330501089324619\n",
            "C=0.01, train accuracy: 0.7566371681415929\n",
            "C=0.01, test accuracy: 0.8076923076923077\n",
            "C=0.1, avg accuracy: 0.7934967320261438\n",
            "C=0.1, train accuracy: 0.7935103244837758\n",
            "C=0.1, test accuracy: 0.7846153846153846\n",
            "C=1, avg accuracy: 0.7934967320261438\n",
            "C=1, train accuracy: 0.7935103244837758\n",
            "C=1, test accuracy: 0.7846153846153846\n"
          ]
        },
        {
          "output_type": "display_data",
          "data": {
            "text/plain": [
              "<Figure size 640x480 with 1 Axes>"
            ],
            "image/png": "[encoded data removed]"
          },
          "metadata": {}
        }
      ]
    },
    {
      "cell_type": "code",
      "source": [
        "print(f\"Best SVM accuracy: {accuracy_score(y_test, y_pred)}\")\n",
        "create_confusion_matrix(y_test, y_pred, \"SVM\")\n",
        "# 73 passengers correctly classified as survived\n",
        "# 32 passengers correctly classified as not survived\n",
        "# 6 passengers incorrectly classified as survived\n",
        "# 19 passengers incorrectly classified as not survived"
      ],
      "metadata": {
        "colab": {
          "base_uri": "https://localhost:8080/",
          "height": 582
        },
        "id": "--9_LGJ5tYJI",
        "outputId": "646ae365-07c1-4bee-fd5b-d32f01a280fa"
      },
      "id": "--9_LGJ5tYJI",
      "execution_count": 204,
      "outputs": [
        {
          "output_type": "stream",
          "name": "stdout",
          "text": [
            "Best SVM accuracy: 0.8076923076923077\n"
          ]
        },
        {
          "output_type": "display_data",
          "data": {
            "text/plain": [
              "<Figure size 800x600 with 2 Axes>"
            ],
            "image/png": "[encoded data removed]"
          },
          "metadata": {}
        }
      ]
    },
    {
      "cell_type": "code",
      "source": [
        "def lr_model(train_pd: pd.DataFrame, test_pd: pd.DataFrame) -> tuple:\n",
        "    X_train = train_pd[\"features\"].tolist()\n",
        "    X_test = test_pd[\"features\"].tolist()\n",
        "    y_train = train_pd[\"Label\"].tolist()\n",
        "    y_test = test_pd[\"Label\"].tolist()\n",
        "    test_accuracy = []\n",
        "    train_accuracy = []\n",
        "    best_model = None\n",
        "    best_score = 0\n",
        "\n",
        "    for max_iter in [35,40,45,50,55]:\n",
        "        model = LogisticRegression(max_iter=max_iter, random_state=42)\n",
        "        scores = cross_val_score(model, X_train, y_train, cv=5)\n",
        "        print(f\"max_iter={max_iter}, avg accuracy: {scores.mean()}\")\n",
        "        model.fit(X_train, y_train)\n",
        "\n",
        "        train_pred = model.predict(X_train)\n",
        "        test_pred = model.predict(X_test)\n",
        "\n",
        "        train_acc = accuracy_score(y_train, train_pred)\n",
        "        test_acc = accuracy_score(y_test, test_pred)\n",
        "        print(f\"max_iter={max_iter}, train accuracy: {train_acc}\")\n",
        "        print(f\"max_iter={max_iter}, test accuracy: {test_acc}\")\n",
        "        train_accuracy.append(train_acc)\n",
        "        test_accuracy.append(test_acc)\n",
        "\n",
        "        if test_acc > best_score:\n",
        "            best_score = test_acc\n",
        "            best_model = model\n",
        "    best_pred = best_model.predict(X_test)\n",
        "\n",
        "    return best_pred, train_accuracy, test_accuracy, y_test\n",
        "\n",
        "y_pred, train_accuracy, test_accuracy, y_test = lr_model(train_pd, test_pd)\n",
        "plot_accuracy([35,40,45,50,55], train_accuracy, test_accuracy, \"Logistic Regression\")"
      ],
      "metadata": {
        "colab": {
          "base_uri": "https://localhost:8080/",
          "height": 748
        },
        "id": "Bbd00U6CB_pR",
        "outputId": "8822236f-422d-4494-88d7-9374ea36cb7a"
      },
      "id": "Bbd00U6CB_pR",
      "execution_count": 205,
      "outputs": [
        {
          "output_type": "stream",
          "name": "stdout",
          "text": [
            "max_iter=35, avg accuracy: 0.7949564270152505\n",
            "max_iter=35, train accuracy: 0.7979351032448377\n",
            "max_iter=35, test accuracy: 0.8\n",
            "max_iter=40, avg accuracy: 0.7949564270152505\n",
            "max_iter=40, train accuracy: 0.7979351032448377\n",
            "max_iter=40, test accuracy: 0.8\n",
            "max_iter=45, avg accuracy: 0.7949564270152505\n",
            "max_iter=45, train accuracy: 0.7979351032448377\n",
            "max_iter=45, test accuracy: 0.8\n",
            "max_iter=50, avg accuracy: 0.7949564270152505\n",
            "max_iter=50, train accuracy: 0.7979351032448377\n",
            "max_iter=50, test accuracy: 0.8\n",
            "max_iter=55, avg accuracy: 0.7949564270152505\n",
            "max_iter=55, train accuracy: 0.7979351032448377\n",
            "max_iter=55, test accuracy: 0.8\n"
          ]
        },
        {
          "output_type": "display_data",
          "data": {
            "text/plain": [
              "<Figure size 640x480 with 1 Axes>"
            ],
            "image/png": "[encoded data removed]"
          },
          "metadata": {}
        }
      ]
    },
    {
      "cell_type": "code",
      "source": [
        "print(f\"Best Logistic Regression accuracy: {accuracy_score(y_test, y_pred)}\")\n",
        "create_confusion_matrix(y_test, y_pred, \"Logistic Regression\")"
      ],
      "metadata": {
        "colab": {
          "base_uri": "https://localhost:8080/",
          "height": 582
        },
        "id": "QFbei18aIXP3",
        "outputId": "2ebbbc27-b33d-4b42-ff2f-be49ca222f18"
      },
      "id": "QFbei18aIXP3",
      "execution_count": 206,
      "outputs": [
        {
          "output_type": "stream",
          "name": "stdout",
          "text": [
            "Best Logistic Regression accuracy: 0.8\n"
          ]
        },
        {
          "output_type": "display_data",
          "data": {
            "text/plain": [
              "<Figure size 800x600 with 2 Axes>"
            ],
            "image/png": "[encoded data removed]"
          },
          "metadata": {}
        }
      ]
    },
    {
      "cell_type": "code",
      "source": [
        "def rf_model(train_pd: pd.DataFrame, test_pd: pd.DataFrame) -> tuple:\n",
        "    X_train = train_pd[\"features\"].tolist()\n",
        "    X_test = test_pd[\"features\"].tolist()\n",
        "    y_train = train_pd[\"Label\"].tolist()\n",
        "    y_test = test_pd[\"Label\"].tolist()\n",
        "    test_accuracy = []\n",
        "    train_accuracy = []\n",
        "    best_model = None\n",
        "    best_score = 0\n",
        "\n",
        "    for n in [1,10,15,25,50,100]:\n",
        "        model = RandomForestClassifier(n_estimators=n, random_state=42)\n",
        "        scores = cross_val_score(model, X_train, y_train, cv=5)\n",
        "        print(f\"n_estimators={n}, avg accuracy: {scores.mean()}\")\n",
        "        model.fit(X_train, y_train)\n",
        "\n",
        "        train_pred = model.predict(X_train)\n",
        "        test_pred = model.predict(X_test)\n",
        "\n",
        "        train_acc = accuracy_score(y_train, train_pred)\n",
        "        test_acc = accuracy_score(y_test, test_pred)\n",
        "        print(f\"n_estimators={n}, train accuracy: {train_acc}\")\n",
        "        print(f\"n_estimators={n}, test accuracy: {test_acc}\")\n",
        "        train_accuracy.append(train_acc)\n",
        "        test_accuracy.append(test_acc)\n",
        "\n",
        "        if test_acc > best_score:\n",
        "            best_score = test_acc\n",
        "            best_model = model\n",
        "    best_pred = best_model.predict(X_test)\n",
        "\n",
        "    return best_pred, train_accuracy, test_accuracy, y_test\n",
        "\n",
        "y_pred, train_accuracy, test_accuracy, y_test = rf_model(train_pd, test_pd)\n",
        "plot_accuracy([1,10,15,25,50,100], train_accuracy, test_accuracy, \"Random Forest\")"
      ],
      "metadata": {
        "colab": {
          "base_uri": "https://localhost:8080/",
          "height": 803
        },
        "id": "xonzDgRVIZYC",
        "outputId": "ade4fdf6-0b80-404a-9f77-5791b879a5e9"
      },
      "id": "xonzDgRVIZYC",
      "execution_count": 207,
      "outputs": [
        {
          "output_type": "stream",
          "name": "stdout",
          "text": [
            "n_estimators=1, avg accuracy: 0.6799891067538126\n",
            "n_estimators=1, train accuracy: 0.8864306784660767\n",
            "n_estimators=1, test accuracy: 0.6461538461538462\n",
            "n_estimators=10, avg accuracy: 0.7625381263616557\n",
            "n_estimators=10, train accuracy: 0.9690265486725663\n",
            "n_estimators=10, test accuracy: 0.7692307692307693\n",
            "n_estimators=15, avg accuracy: 0.7625272331154684\n",
            "n_estimators=15, train accuracy: 0.9734513274336283\n",
            "n_estimators=15, test accuracy: 0.7692307692307693\n",
            "n_estimators=25, avg accuracy: 0.7654901960784313\n",
            "n_estimators=25, train accuracy: 0.9793510324483776\n",
            "n_estimators=25, test accuracy: 0.7846153846153846\n",
            "n_estimators=50, avg accuracy: 0.7743355119825709\n",
            "n_estimators=50, train accuracy: 0.9793510324483776\n",
            "n_estimators=50, test accuracy: 0.7846153846153846\n",
            "n_estimators=100, avg accuracy: 0.7802178649237473\n",
            "n_estimators=100, train accuracy: 0.9808259587020649\n",
            "n_estimators=100, test accuracy: 0.7923076923076923\n"
          ]
        },
        {
          "output_type": "display_data",
          "data": {
            "text/plain": [
              "<Figure size 640x480 with 1 Axes>"
            ],
            "image/png": "[encoded data removed]"
          },
          "metadata": {}
        }
      ]
    },
    {
      "cell_type": "code",
      "source": [
        "print(f\"Best Random Forest accuracy: {accuracy_score(y_test, y_pred)}\")\n",
        "create_confusion_matrix(y_test, y_pred, \"Random Forest\")"
      ],
      "metadata": {
        "colab": {
          "base_uri": "https://localhost:8080/",
          "height": 582
        },
        "id": "Yi9i4lcCIcKc",
        "outputId": "c86054c8-d7d6-48fd-e005-7c7518b1d851"
      },
      "id": "Yi9i4lcCIcKc",
      "execution_count": 208,
      "outputs": [
        {
          "output_type": "stream",
          "name": "stdout",
          "text": [
            "Best Random Forest accuracy: 0.7923076923076923\n"
          ]
        },
        {
          "output_type": "display_data",
          "data": {
            "text/plain": [
              "<Figure size 800x600 with 2 Axes>"
            ],
            "image/png": "[encoded data removed]"
          },
          "metadata": {}
        }
      ]
    },
    {
      "cell_type": "code",
      "source": [
        "def knn_model(train_pd: pd.DataFrame, test_pd: pd.DataFrame) -> tuple:\n",
        "    X_train = train_pd[\"features\"].tolist()\n",
        "    X_test = test_pd[\"features\"].tolist()\n",
        "    y_train = train_pd[\"Label\"].tolist()\n",
        "    y_test = test_pd[\"Label\"].tolist()\n",
        "    test_accuracy = []\n",
        "    train_accuracy = []\n",
        "    best_model = None\n",
        "    best_score = 0\n",
        "\n",
        "    for n in [1,5,10,15]:\n",
        "        model = KNeighborsClassifier(n_neighbors=n)\n",
        "        scores = cross_val_score(model, X_train, y_train, cv=5)\n",
        "        print(f\"n_neighbors={n}, avg accuracy: {scores.mean()}\")\n",
        "        model.fit(X_train, y_train)\n",
        "\n",
        "        train_pred = model.predict(X_train)\n",
        "        test_pred = model.predict(X_test)\n",
        "\n",
        "        train_acc = accuracy_score(y_train, train_pred)\n",
        "        test_acc = accuracy_score(y_test, test_pred)\n",
        "        print(f\"n_neighbors={n}, train accuracy: {train_acc}\")\n",
        "        print(f\"n_neighbors={n}, test accuracy: {test_acc}\")\n",
        "        train_accuracy.append(train_acc)\n",
        "        test_accuracy.append(test_acc)\n",
        "\n",
        "        if test_acc > best_score:\n",
        "            best_score = test_acc\n",
        "            best_model = model\n",
        "    best_pred = best_model.predict(X_test)\n",
        "\n",
        "    return best_pred, train_accuracy, test_accuracy, y_test\n",
        "\n",
        "y_pred, train_accuracy, test_accuracy, y_test = knn_model(train_pd, test_pd)\n",
        "plot_accuracy([1,5,10,15], train_accuracy, test_accuracy, \"KNN\")"
      ],
      "metadata": {
        "colab": {
          "base_uri": "https://localhost:8080/",
          "height": 692
        },
        "id": "Bnu1Tfz_IdVa",
        "outputId": "18c1c81c-c4a7-45ad-bd04-926c4569117a"
      },
      "id": "Bnu1Tfz_IdVa",
      "execution_count": 209,
      "outputs": [
        {
          "output_type": "stream",
          "name": "stdout",
          "text": [
            "n_neighbors=1, avg accuracy: 0.7226797385620916\n",
            "n_neighbors=1, train accuracy: 0.9778761061946902\n",
            "n_neighbors=1, test accuracy: 0.7307692307692307\n",
            "n_neighbors=5, avg accuracy: 0.7581263616557734\n",
            "n_neighbors=5, train accuracy: 0.8348082595870207\n",
            "n_neighbors=5, test accuracy: 0.8307692307692308\n",
            "n_neighbors=10, avg accuracy: 0.7655119825708061\n",
            "n_neighbors=10, train accuracy: 0.8097345132743363\n",
            "n_neighbors=10, test accuracy: 0.7923076923076923\n",
            "n_neighbors=15, avg accuracy: 0.758169934640523\n",
            "n_neighbors=15, train accuracy: 0.7949852507374632\n",
            "n_neighbors=15, test accuracy: 0.8307692307692308\n"
          ]
        },
        {
          "output_type": "display_data",
          "data": {
            "text/plain": [
              "<Figure size 640x480 with 1 Axes>"
            ],
            "image/png": "[encoded data removed]"
          },
          "metadata": {}
        }
      ]
    },
    {
      "cell_type": "code",
      "source": [
        "print(f\"Best KNN accuracy: {accuracy_score(y_test, y_pred)}\")\n",
        "create_confusion_matrix(y_test, y_pred, \"KNN\")"
      ],
      "metadata": {
        "colab": {
          "base_uri": "https://localhost:8080/",
          "height": 582
        },
        "id": "eE5lIqvcIfRn",
        "outputId": "d09d5b79-99ba-4e81-941e-6710a4a1f109"
      },
      "id": "eE5lIqvcIfRn",
      "execution_count": 210,
      "outputs": [
        {
          "output_type": "stream",
          "name": "stdout",
          "text": [
            "Best KNN accuracy: 0.8307692307692308\n"
          ]
        },
        {
          "output_type": "display_data",
          "data": {
            "text/plain": [
              "<Figure size 800x600 with 2 Axes>"
            ],
            "image/png": "[encoded data removed]"
          },
          "metadata": {}
        }
      ]
    },
    {
      "cell_type": "code",
      "source": [
        "final_model = KNeighborsClassifier(n_neighbors=15)\n",
        "final_model.fit(train_pd[\"features\"].tolist(), train_pd[\"Label\"].tolist())\n",
        "y_pred = final_model.predict(test_pd[\"features\"].tolist())\n",
        "accuracy = accuracy_score(test_pd[\"Label\"].tolist(), y_pred)\n",
        "print(f\"Final accuracy: {accuracy}\")\n",
        "create_confusion_matrix(test_pd[\"Label\"].tolist(), y_pred, \"Final knn\")\n"
      ],
      "metadata": {
        "colab": {
          "base_uri": "https://localhost:8080/",
          "height": 582
        },
        "id": "sf6Zv_mFn9wC",
        "outputId": "ab08532e-ef62-4589-b67e-f88522f33b37"
      },
      "id": "sf6Zv_mFn9wC",
      "execution_count": 212,
      "outputs": [
        {
          "output_type": "stream",
          "name": "stdout",
          "text": [
            "Final accuracy: 0.8307692307692308\n"
          ]
        },
        {
          "output_type": "display_data",
          "data": {
            "text/plain": [
              "<Figure size 800x600 with 2 Axes>"
            ],
            "image/png": "[encoded data removed]"
          },
          "metadata": {}
        }
      ]
    },
    {
      "cell_type": "markdown",
      "id": "df1eaa39-d9bd-410c-beb5-9ca37bdf3d32",
      "metadata": {
        "id": "df1eaa39-d9bd-410c-beb5-9ca37bdf3d32"
      },
      "source": [
        "### Write your report here"
      ]
    },
    {
      "cell_type": "markdown",
      "id": "142f066b-5655-4e1e-9bb1-ae4cc5f54565",
      "metadata": {
        "id": "142f066b-5655-4e1e-9bb1-ae4cc5f54565"
      },
      "source": [
        "After loading the data, I conducted initial data analysis to understand the dataset better. The analysis revealed that the dataset had 891 samples and 8 features excluding the PassengerId, Survived, Name, and Ticket columns. I decided to drop Name and Ticket as I think that they don't have any impact on survival. The cabin column had a lot missing values and there were some unreasonable values in the age, parents/children aboard, siblings/spouses aboard, and far columns such as negative ages, negative number of sibling/spouses aboard, fare value of 0.\n",
        "\n",
        "To clean the data, I first replaced missing age values with the average age of passengers excluding the unreasonable values. For the cabin column, I noticed that first class passengers paid more than 35.5 and had cabin numbers that started with A up to D,while second class passengers paid between 10.5 and 35.4 and had cabin numbers that started with D up to F and third class passengers paid less than 10.5 and had cabin numbers that started with F up to G. I used this information to fill the missing cabin values and missing passenger class values. Giving first class passengers cabin number 'A', second class passengers cabin number 'B', and third class passengers cabin number 'C'. For all other features, I replaced missing values with the mode of the respective feature. I removed three duplicate samples from the dataset. I removed outliers using the 3 standard deviation method\n",
        "for numerical features, setting specific constraints like limiting ages to 0-100 years and fares to less than 350.\n",
        "\n",
        "After cleaning the data, I split the dataset into a training set and a test set, using 80-20 split and then standardized numeric features\n",
        "using the StandardScaler to imporve permanence. I encoded the categorical features using the OneHotEncoder. I then trained the models using the training set and tested the models using the test set.\n",
        "\n",
        "I implemented and compared four models; SVM, Logistic Regression, Random Forest, and K-Nearest Neighbors. Each model underwent Cross Validation with varying hyperparameters to find the optimal parameter. SVM model had an accuracy of 80.77%, Logistic Regression had an\n",
        "accuracy of 80%, Random Forest had an accuracy of 79.23%, and K-Nearest Neighbors had an accuracy of 83.08%. I selected K-Nearest Neighbors as the final model since it had the highest accuracy."
      ]
    },
    {
      "cell_type": "markdown",
      "id": "4dfd1c26-217d-400f-abf6-4b3a92e9a175",
      "metadata": {
        "id": "4dfd1c26-217d-400f-abf6-4b3a92e9a175"
      },
      "source": []
    },
    {
      "cell_type": "markdown",
      "id": "e353c9e6-e532-42c3-9288-3c50ed48a32f",
      "metadata": {
        "id": "e353c9e6-e532-42c3-9288-3c50ed48a32f"
      },
      "source": [
        "---"
      ]
    }
  ],
  "metadata": {
    "colab": {
      "provenance": []
    },
    "kernelspec": {
      "display_name": "Python 3 (ipykernel)",
      "language": "python",
      "name": "python3"
    },
    "language_info": {
      "codemirror_mode": {
        "name": "ipython",
        "version": 3
      },
      "file_extension": ".py",
      "mimetype": "text/x-python",
      "name": "python",
      "nbconvert_exporter": "python",
      "pygments_lexer": "ipython3",
      "version": "3.12.4"
    }
  },
  "nbformat": 4,
  "nbformat_minor": 5
}